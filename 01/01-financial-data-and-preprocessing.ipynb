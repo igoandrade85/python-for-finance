{
 "cells": [
  {
   "cell_type": "markdown",
   "id": "6067d6f5-43f9-4140-8356-4b7a735e1ac9",
   "metadata": {},
   "source": [
    "# Dados Financeiros e Pré-processamento"
   ]
  },
  {
   "cell_type": "markdown",
   "id": "66fe70cb-5399-4bb4-8972-224ca43694dd",
   "metadata": {},
   "source": [
    "## Bibliotecas necessárias"
   ]
  },
  {
   "cell_type": "code",
   "execution_count": 16,
   "id": "b4b1e40b-60bb-4443-9255-4f0420e95fda",
   "metadata": {},
   "outputs": [],
   "source": [
    "import numpy as np\n",
    "import pandas as pd\n",
    "import yfinance as yf\n",
    "import matplotlib.pyplot as plt\n",
    "import warnings"
   ]
  },
  {
   "cell_type": "code",
   "execution_count": 17,
   "id": "c3a2121a-aef0-44fc-b378-d56eefb62d55",
   "metadata": {},
   "outputs": [],
   "source": [
    "plt.style.use('seaborn')\n",
    "plt.rcParams['figure.figsize'] = [16, 9]\n",
    "plt.rcParams['figure.dpi'] = 300\n",
    "warnings.simplefilter(action='ignore', category=FutureWarning)"
   ]
  },
  {
   "cell_type": "markdown",
   "id": "a28c09d9-ddea-4551-a232-0b0497e966be",
   "metadata": {},
   "source": [
    "## Obtendo dados do Yahoo Finance"
   ]
  },
  {
   "cell_type": "code",
   "execution_count": 2,
   "id": "8cefd92e-da9b-4ff9-bb82-6e441736bbe1",
   "metadata": {},
   "outputs": [],
   "source": [
    "df_magalu = yf.download('MGLU3.SA', start='2012-01-01', end='2021-12-31', progress=False)"
   ]
  },
  {
   "cell_type": "code",
   "execution_count": 3,
   "id": "a4849ac4-479d-4f67-99a0-5271a57ad7b5",
   "metadata": {},
   "outputs": [
    {
     "data": {
      "text/html": [
       "<div>\n",
       "<style scoped>\n",
       "    .dataframe tbody tr th:only-of-type {\n",
       "        vertical-align: middle;\n",
       "    }\n",
       "\n",
       "    .dataframe tbody tr th {\n",
       "        vertical-align: top;\n",
       "    }\n",
       "\n",
       "    .dataframe thead th {\n",
       "        text-align: right;\n",
       "    }\n",
       "</style>\n",
       "<table border=\"1\" class=\"dataframe\">\n",
       "  <thead>\n",
       "    <tr style=\"text-align: right;\">\n",
       "      <th></th>\n",
       "      <th>Open</th>\n",
       "      <th>High</th>\n",
       "      <th>Low</th>\n",
       "      <th>Close</th>\n",
       "      <th>Adj Close</th>\n",
       "      <th>Volume</th>\n",
       "    </tr>\n",
       "    <tr>\n",
       "      <th>Date</th>\n",
       "      <th></th>\n",
       "      <th></th>\n",
       "      <th></th>\n",
       "      <th></th>\n",
       "      <th></th>\n",
       "      <th></th>\n",
       "    </tr>\n",
       "  </thead>\n",
       "  <tbody>\n",
       "    <tr>\n",
       "      <th>2012-01-02</th>\n",
       "      <td>0.296562</td>\n",
       "      <td>0.296562</td>\n",
       "      <td>0.290625</td>\n",
       "      <td>0.290625</td>\n",
       "      <td>0.261855</td>\n",
       "      <td>8681600</td>\n",
       "    </tr>\n",
       "    <tr>\n",
       "      <th>2012-01-03</th>\n",
       "      <td>0.293750</td>\n",
       "      <td>0.295312</td>\n",
       "      <td>0.288750</td>\n",
       "      <td>0.288750</td>\n",
       "      <td>0.260165</td>\n",
       "      <td>23385600</td>\n",
       "    </tr>\n",
       "    <tr>\n",
       "      <th>2012-01-04</th>\n",
       "      <td>0.289687</td>\n",
       "      <td>0.289687</td>\n",
       "      <td>0.283125</td>\n",
       "      <td>0.285937</td>\n",
       "      <td>0.257631</td>\n",
       "      <td>19008000</td>\n",
       "    </tr>\n",
       "    <tr>\n",
       "      <th>2012-01-05</th>\n",
       "      <td>0.286250</td>\n",
       "      <td>0.286250</td>\n",
       "      <td>0.282812</td>\n",
       "      <td>0.283437</td>\n",
       "      <td>0.255378</td>\n",
       "      <td>7024000</td>\n",
       "    </tr>\n",
       "    <tr>\n",
       "      <th>2012-01-06</th>\n",
       "      <td>0.283750</td>\n",
       "      <td>0.291250</td>\n",
       "      <td>0.279687</td>\n",
       "      <td>0.291250</td>\n",
       "      <td>0.262418</td>\n",
       "      <td>19286400</td>\n",
       "    </tr>\n",
       "  </tbody>\n",
       "</table>\n",
       "</div>"
      ],
      "text/plain": [
       "                Open      High       Low     Close  Adj Close    Volume\n",
       "Date                                                                   \n",
       "2012-01-02  0.296562  0.296562  0.290625  0.290625   0.261855   8681600\n",
       "2012-01-03  0.293750  0.295312  0.288750  0.288750   0.260165  23385600\n",
       "2012-01-04  0.289687  0.289687  0.283125  0.285937   0.257631  19008000\n",
       "2012-01-05  0.286250  0.286250  0.282812  0.283437   0.255378   7024000\n",
       "2012-01-06  0.283750  0.291250  0.279687  0.291250   0.262418  19286400"
      ]
     },
     "execution_count": 3,
     "metadata": {},
     "output_type": "execute_result"
    }
   ],
   "source": [
    "df_magalu.head()"
   ]
  },
  {
   "cell_type": "code",
   "execution_count": 4,
   "id": "a305c84d-9973-43aa-b7c0-8d0abcb90fc5",
   "metadata": {},
   "outputs": [
    {
     "data": {
      "text/html": [
       "<div>\n",
       "<style scoped>\n",
       "    .dataframe tbody tr th:only-of-type {\n",
       "        vertical-align: middle;\n",
       "    }\n",
       "\n",
       "    .dataframe tbody tr th {\n",
       "        vertical-align: top;\n",
       "    }\n",
       "\n",
       "    .dataframe thead th {\n",
       "        text-align: right;\n",
       "    }\n",
       "</style>\n",
       "<table border=\"1\" class=\"dataframe\">\n",
       "  <thead>\n",
       "    <tr style=\"text-align: right;\">\n",
       "      <th></th>\n",
       "      <th>Open</th>\n",
       "      <th>High</th>\n",
       "      <th>Low</th>\n",
       "      <th>Close</th>\n",
       "      <th>Adj Close</th>\n",
       "      <th>Volume</th>\n",
       "    </tr>\n",
       "    <tr>\n",
       "      <th>Date</th>\n",
       "      <th></th>\n",
       "      <th></th>\n",
       "      <th></th>\n",
       "      <th></th>\n",
       "      <th></th>\n",
       "      <th></th>\n",
       "    </tr>\n",
       "  </thead>\n",
       "  <tbody>\n",
       "    <tr>\n",
       "      <th>2021-12-23</th>\n",
       "      <td>6.22</td>\n",
       "      <td>6.34</td>\n",
       "      <td>5.99</td>\n",
       "      <td>6.20</td>\n",
       "      <td>6.20</td>\n",
       "      <td>97106100</td>\n",
       "    </tr>\n",
       "    <tr>\n",
       "      <th>2021-12-27</th>\n",
       "      <td>6.23</td>\n",
       "      <td>6.78</td>\n",
       "      <td>6.23</td>\n",
       "      <td>6.78</td>\n",
       "      <td>6.78</td>\n",
       "      <td>124279800</td>\n",
       "    </tr>\n",
       "    <tr>\n",
       "      <th>2021-12-28</th>\n",
       "      <td>6.79</td>\n",
       "      <td>6.96</td>\n",
       "      <td>6.64</td>\n",
       "      <td>6.83</td>\n",
       "      <td>6.83</td>\n",
       "      <td>165573900</td>\n",
       "    </tr>\n",
       "    <tr>\n",
       "      <th>2021-12-29</th>\n",
       "      <td>6.84</td>\n",
       "      <td>6.90</td>\n",
       "      <td>6.70</td>\n",
       "      <td>6.76</td>\n",
       "      <td>6.76</td>\n",
       "      <td>79247400</td>\n",
       "    </tr>\n",
       "    <tr>\n",
       "      <th>2021-12-30</th>\n",
       "      <td>6.80</td>\n",
       "      <td>7.41</td>\n",
       "      <td>6.77</td>\n",
       "      <td>7.22</td>\n",
       "      <td>7.22</td>\n",
       "      <td>180329400</td>\n",
       "    </tr>\n",
       "  </tbody>\n",
       "</table>\n",
       "</div>"
      ],
      "text/plain": [
       "            Open  High   Low  Close  Adj Close     Volume\n",
       "Date                                                     \n",
       "2021-12-23  6.22  6.34  5.99   6.20       6.20   97106100\n",
       "2021-12-27  6.23  6.78  6.23   6.78       6.78  124279800\n",
       "2021-12-28  6.79  6.96  6.64   6.83       6.83  165573900\n",
       "2021-12-29  6.84  6.90  6.70   6.76       6.76   79247400\n",
       "2021-12-30  6.80  7.41  6.77   7.22       7.22  180329400"
      ]
     },
     "execution_count": 4,
     "metadata": {},
     "output_type": "execute_result"
    }
   ],
   "source": [
    "df_magalu.tail()"
   ]
  },
  {
   "cell_type": "markdown",
   "id": "252f59b8-3400-4d20-b8d3-4177c9a00aea",
   "metadata": {},
   "source": [
    "## Convertendo preços em retornos\n",
    "\n",
    "* Retorno simples: $$R_t = \\dfrac{P_t - P_{t-1}}{P_t}$$\n",
    "\n",
    "* Retorno logarítmico: $$r_t = \\log(P_t/P_{t-1}) = \\log(P_t) - \\log(P_{t-1})$$"
   ]
  },
  {
   "cell_type": "code",
   "execution_count": 55,
   "id": "c32a3579-339c-4435-bbe9-377f7608be38",
   "metadata": {},
   "outputs": [],
   "source": [
    "df = df_magalu.loc[:, ['Adj Close']]\n",
    "df.rename(columns={'Adj Close':'adj_close'}, inplace=True)"
   ]
  },
  {
   "cell_type": "code",
   "execution_count": 56,
   "id": "9020f503-2948-4322-98e8-1d87bbc3d5e7",
   "metadata": {},
   "outputs": [],
   "source": [
    "df['simple_rtn'] = df.adj_close.pct_change()\n",
    "df['log_rtn'] = np.log(df.adj_close/df.adj_close.shift(1))"
   ]
  },
  {
   "cell_type": "code",
   "execution_count": 57,
   "id": "32035789-fdb9-4e61-85db-1fcaf28f3cca",
   "metadata": {},
   "outputs": [
    {
     "data": {
      "text/html": [
       "<div>\n",
       "<style scoped>\n",
       "    .dataframe tbody tr th:only-of-type {\n",
       "        vertical-align: middle;\n",
       "    }\n",
       "\n",
       "    .dataframe tbody tr th {\n",
       "        vertical-align: top;\n",
       "    }\n",
       "\n",
       "    .dataframe thead th {\n",
       "        text-align: right;\n",
       "    }\n",
       "</style>\n",
       "<table border=\"1\" class=\"dataframe\">\n",
       "  <thead>\n",
       "    <tr style=\"text-align: right;\">\n",
       "      <th></th>\n",
       "      <th>adj_close</th>\n",
       "      <th>simple_rtn</th>\n",
       "      <th>log_rtn</th>\n",
       "    </tr>\n",
       "    <tr>\n",
       "      <th>Date</th>\n",
       "      <th></th>\n",
       "      <th></th>\n",
       "      <th></th>\n",
       "    </tr>\n",
       "  </thead>\n",
       "  <tbody>\n",
       "    <tr>\n",
       "      <th>2012-01-02</th>\n",
       "      <td>0.261855</td>\n",
       "      <td>NaN</td>\n",
       "      <td>NaN</td>\n",
       "    </tr>\n",
       "    <tr>\n",
       "      <th>2012-01-03</th>\n",
       "      <td>0.260165</td>\n",
       "      <td>-0.006451</td>\n",
       "      <td>-0.006472</td>\n",
       "    </tr>\n",
       "    <tr>\n",
       "      <th>2012-01-04</th>\n",
       "      <td>0.257631</td>\n",
       "      <td>-0.009742</td>\n",
       "      <td>-0.009790</td>\n",
       "    </tr>\n",
       "    <tr>\n",
       "      <th>2012-01-05</th>\n",
       "      <td>0.255378</td>\n",
       "      <td>-0.008743</td>\n",
       "      <td>-0.008782</td>\n",
       "    </tr>\n",
       "    <tr>\n",
       "      <th>2012-01-06</th>\n",
       "      <td>0.262418</td>\n",
       "      <td>0.027565</td>\n",
       "      <td>0.027192</td>\n",
       "    </tr>\n",
       "  </tbody>\n",
       "</table>\n",
       "</div>"
      ],
      "text/plain": [
       "            adj_close  simple_rtn   log_rtn\n",
       "Date                                       \n",
       "2012-01-02   0.261855         NaN       NaN\n",
       "2012-01-03   0.260165   -0.006451 -0.006472\n",
       "2012-01-04   0.257631   -0.009742 -0.009790\n",
       "2012-01-05   0.255378   -0.008743 -0.008782\n",
       "2012-01-06   0.262418    0.027565  0.027192"
      ]
     },
     "execution_count": 57,
     "metadata": {},
     "output_type": "execute_result"
    }
   ],
   "source": [
    "df.head()"
   ]
  },
  {
   "cell_type": "markdown",
   "id": "837b87d8-a3bc-4be2-a9c1-da6868eed72e",
   "metadata": {},
   "source": [
    "## Mudança de frequência\n",
    "\n",
    "* Multiplicar/dividir os retornos logarítmicos pelo número de períodos de tempo.\n",
    "\n",
    "* Multiplicar/dividor a volatilidade pela raiz quadrada do número de períodos.\n",
    "\n",
    "Fórmula da volatilidade realizada: $$RV = \\sqrt{\\sum_{i=1}^T r_t^2}$$"
   ]
  },
  {
   "cell_type": "code",
   "execution_count": 58,
   "id": "463bc518-bc53-4ac9-bf7e-57b318853ef7",
   "metadata": {},
   "outputs": [],
   "source": [
    "def realized_volatility(x):\n",
    "    return np.sqrt(np.sum(x**2))"
   ]
  },
  {
   "cell_type": "code",
   "execution_count": 59,
   "id": "4b04a758-c05c-497c-9173-8ef157178723",
   "metadata": {},
   "outputs": [
    {
     "data": {
      "text/html": [
       "<div>\n",
       "<style scoped>\n",
       "    .dataframe tbody tr th:only-of-type {\n",
       "        vertical-align: middle;\n",
       "    }\n",
       "\n",
       "    .dataframe tbody tr th {\n",
       "        vertical-align: top;\n",
       "    }\n",
       "\n",
       "    .dataframe thead th {\n",
       "        text-align: right;\n",
       "    }\n",
       "</style>\n",
       "<table border=\"1\" class=\"dataframe\">\n",
       "  <thead>\n",
       "    <tr style=\"text-align: right;\">\n",
       "      <th></th>\n",
       "      <th>log_rtn</th>\n",
       "    </tr>\n",
       "    <tr>\n",
       "      <th>Date</th>\n",
       "      <th></th>\n",
       "    </tr>\n",
       "  </thead>\n",
       "  <tbody>\n",
       "    <tr>\n",
       "      <th>2012-01-02</th>\n",
       "      <td>NaN</td>\n",
       "    </tr>\n",
       "    <tr>\n",
       "      <th>2012-01-03</th>\n",
       "      <td>-0.006472</td>\n",
       "    </tr>\n",
       "    <tr>\n",
       "      <th>2012-01-04</th>\n",
       "      <td>-0.009790</td>\n",
       "    </tr>\n",
       "    <tr>\n",
       "      <th>2012-01-05</th>\n",
       "      <td>-0.008782</td>\n",
       "    </tr>\n",
       "    <tr>\n",
       "      <th>2012-01-06</th>\n",
       "      <td>0.027192</td>\n",
       "    </tr>\n",
       "  </tbody>\n",
       "</table>\n",
       "</div>"
      ],
      "text/plain": [
       "             log_rtn\n",
       "Date                \n",
       "2012-01-02       NaN\n",
       "2012-01-03 -0.006472\n",
       "2012-01-04 -0.009790\n",
       "2012-01-05 -0.008782\n",
       "2012-01-06  0.027192"
      ]
     },
     "execution_count": 59,
     "metadata": {},
     "output_type": "execute_result"
    }
   ],
   "source": [
    "df2 = df.loc[:, ['log_rtn']]\n",
    "df2.head()"
   ]
  },
  {
   "cell_type": "code",
   "execution_count": 60,
   "id": "d23f85fe-2a8f-4308-a4da-c76923b4ff9b",
   "metadata": {},
   "outputs": [],
   "source": [
    "df_rv = df2.groupby(pd.Grouper(freq='M')).apply(realized_volatility)\n",
    "df_rv.rename(columns={'log_rtn': 'rv'}, inplace=True)"
   ]
  },
  {
   "cell_type": "markdown",
   "id": "3866b980-ba1a-4198-b625-11326e934a23",
   "metadata": {},
   "source": [
    "Volatilidade Anualizada:"
   ]
  },
  {
   "cell_type": "code",
   "execution_count": 61,
   "id": "4503a59e-7226-4e8c-997e-2bc79ef4f5e5",
   "metadata": {},
   "outputs": [],
   "source": [
    "df_rv.rv = df_rv.rv * np.sqrt(12)"
   ]
  },
  {
   "cell_type": "markdown",
   "id": "3792b93a-1f22-4f04-8902-ec3fd26a61a3",
   "metadata": {},
   "source": [
    "Gráficos:"
   ]
  },
  {
   "cell_type": "code",
   "execution_count": 62,
   "id": "7ebbad6f-e1bd-4b32-9d21-6c200af78c43",
   "metadata": {},
   "outputs": [
    {
     "data": {
      "image/png": "[encoded data removed]",
      "text/plain": [
       "<Figure size 432x288 with 2 Axes>"
      ]
     },
     "metadata": {
      "needs_background": "light"
     },
     "output_type": "display_data"
    }
   ],
   "source": [
    "fig, ax = plt.subplots(2, 1, sharex=True)\n",
    "ax[0].plot(df2)\n",
    "ax[1].plot(df_rv)\n",
    "plt.show()"
   ]
  },
  {
   "cell_type": "markdown",
   "id": "fb79f671-48d6-400b-aca1-a8304414dd46",
   "metadata": {},
   "source": [
    "## Fatos estilizados"
   ]
  },
  {
   "cell_type": "code",
   "execution_count": 28,
   "id": "ac0d684d-24a1-4235-8e64-722ab3cd0e9a",
   "metadata": {},
   "outputs": [],
   "source": [
    "import pandas as pd\n",
    "import numpy as np\n",
    "import yfinance as yf\n",
    "import seaborn as sns\n",
    "import scipy.stats as scs\n",
    "import statsmodels.api as sm\n",
    "import statsmodels.tsa.api as smt"
   ]
  },
  {
   "cell_type": "markdown",
   "id": "f1d6c3b1-b133-4437-b50c-446bf5b5a6b2",
   "metadata": {},
   "source": [
    "### Distribuição não gaussiana de retornos"
   ]
  },
  {
   "cell_type": "code",
   "execution_count": 64,
   "id": "d350d65b-56fa-4e99-983c-9f4536442149",
   "metadata": {},
   "outputs": [],
   "source": [
    "df.dropna(inplace=True)"
   ]
  },
  {
   "cell_type": "code",
   "execution_count": 66,
   "id": "4b4e3986-7c78-4699-8abd-4e69d17ad2d1",
   "metadata": {},
   "outputs": [],
   "source": [
    "r_range = np.linspace(min(df.log_rtn), max(df.log_rtn), num = 1000)\n",
    "mu = df.log_rtn.mean()\n",
    "sigma = df.log_rtn.std()\n",
    "norm_pdf = scs.norm.pdf(r_range, loc=mu, scale=sigma)"
   ]
  },
  {
   "cell_type": "markdown",
   "id": "ab68d5bd-384e-41ee-8830-ac0db7116caf",
   "metadata": {},
   "source": [
    "Gráfico"
   ]
  },
  {
   "cell_type": "code",
   "execution_count": 70,
   "id": "f75413c7-1c5e-4810-8932-8ff11090bc46",
   "metadata": {},
   "outputs": [
    {
     "data": {
      "image/png": "[encoded data removed]",
      "text/plain": [
       "<Figure size 1152x576 with 2 Axes>"
      ]
     },
     "metadata": {
      "needs_background": "light"
     },
     "output_type": "display_data"
    }
   ],
   "source": [
    "fig, ax = plt.subplots(1, 2, figsize=(16,8))\n",
    "# histogram\n",
    "sns.distplot(df.log_rtn, kde=False, norm_hist=True, ax=ax[0])\n",
    "ax[0].set_title('Distribuição de retornos MGLU', fontsize=16)\n",
    "ax[0].plot(r_range, norm_pdf, 'g', lw=2, label=f'N({mu:.2f}, {sigma**2:.4f})')\n",
    "ax[0].legend(loc='upper left')\n",
    "\n",
    "\n",
    "# Q-Q Plot\n",
    "qq = sm.qqplot(df.log_rtn.values, line='s', ax=ax[1])\n",
    "ax[1].set_title('Q-Q plot', fontsize=16)\n",
    "plt.show()"
   ]
  },
  {
   "cell_type": "code",
   "execution_count": 73,
   "id": "454edd9a-a9d5-4c60-8cce-2e8b99fa7e0c",
   "metadata": {},
   "outputs": [
    {
     "data": {
      "image/png": "[encoded data removed]",
      "text/plain": [
       "<Figure size 432x288 with 1 Axes>"
      ]
     },
     "metadata": {
      "needs_background": "light"
     },
     "output_type": "display_data"
    }
   ],
   "source": [
    "df.log_rtn.plot(title='Retornos diários - MGLU')\n",
    "plt.show()"
   ]
  },
  {
   "cell_type": "code",
   "execution_count": null,
   "id": "feda83e5-ff87-4eee-bf33-f30900223947",
   "metadata": {},
   "outputs": [],
   "source": []
  }
 ],
 "metadata": {
  "kernelspec": {
   "display_name": "venv",
   "language": "python",
   "name": "venv"
  },
  "language_info": {
   "codemirror_mode": {
    "name": "ipython",
    "version": 3
   },
   "file_extension": ".py",
   "mimetype": "text/x-python",
   "name": "python",
   "nbconvert_exporter": "python",
   "pygments_lexer": "ipython3",
   "version": "3.9.7"
  }
 },
 "nbformat": 4,
 "nbformat_minor": 5
}
